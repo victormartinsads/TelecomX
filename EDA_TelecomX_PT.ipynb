{
 "cells": [
  {
   "cell_type": "code",
   "execution_count": null,
   "id": "0c73af15",
   "metadata": {},
   "outputs": [],
   "source": [
    "import pandas as pd\n",
    "import matplotlib.pyplot as plt\n",
    "import seaborn as sns\n",
    "import warnings\n",
    "\n",
    "# Estilo dos gráficos\n",
    "sns.set(style=\"whitegrid\")\n",
    "plt.rcParams[\"figure.figsize\"] = (10, 6)\n",
    "warnings.filterwarnings(\"ignore\")\n",
    "\n",
    "# Carregar dataset limpo\n",
    "df = pd.read_csv(\"TelecomX_Tratado.csv\")\n",
    "\n",
    "# Converter coluna binária\n",
    "df['Churn_bin'] = df['Churn'].map({'Yes': 1, 'No': 0})\n"
   ]
  },
  {
   "cell_type": "code",
   "execution_count": null,
   "id": "ca879e98",
   "metadata": {},
   "outputs": [],
   "source": [
    "# Correlação com churn\n",
    "numeric_cols = df.select_dtypes(include=['int64', 'float64']).columns\n",
    "correlation = df[numeric_cols].corr()['Churn_bin'].sort_values(ascending=False)\n",
    "\n",
    "plt.figure()\n",
    "sns.barplot(x=correlation.values, y=correlation.index, palette='coolwarm')\n",
    "plt.title('Correlação com Cancelamento')\n",
    "plt.xlabel('Correlação')\n",
    "plt.tight_layout()\n",
    "plt.show()\n"
   ]
  },
  {
   "cell_type": "code",
   "execution_count": null,
   "id": "969d5030",
   "metadata": {},
   "outputs": [],
   "source": [
    "# Análise por categorias\n",
    "categorical = ['account_Contract', 'internet_InternetService', 'account_PaymentMethod']\n",
    "\n",
    "for col in categorical:\n",
    "    plt.figure()\n",
    "    churn_rate = df.groupby(col)['Churn_bin'].mean().sort_values(ascending=False)\n",
    "    sns.barplot(x=churn_rate.values, y=churn_rate.index, color='skyblue')\n",
    "    plt.title(f'Taxa de Cancelamento por {col.split(\"_\")[-1]}')\n",
    "    plt.xlabel('Taxa de Cancelamento (%)')\n",
    "    plt.ylabel(col.split(\"_\")[-1])\n",
    "    plt.xlim(0, 1)\n",
    "    plt.tight_layout()\n",
    "    plt.show()\n"
   ]
  }
 ],
 "metadata": {},
 "nbformat": 4,
 "nbformat_minor": 5
}
